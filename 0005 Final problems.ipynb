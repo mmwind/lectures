{
 "cells": [
  {
   "cell_type": "code",
   "execution_count": 1,
   "metadata": {},
   "outputs": [],
   "source": [
    "import pandas as pd\n",
    "import numpy as np\n",
    "import datetime\n",
    "from matplotlib import pyplot as plt\n",
    "from scipy.special import binom\n",
    "from scipy import stats\n",
    "%matplotlib inline\n",
    "\n",
    "from grader import Grader # <- file grader.py should be in the notebook's directory"
   ]
  },
  {
   "cell_type": "markdown",
   "metadata": {},
   "source": [
    "Now we have a Grader. \n",
    "It is the way to check if your code works well. \n",
    "\n",
    "After each problem you should send answer to grader, and program will check it out.\n",
    "\n",
    "    g.send(NUMBER_OF_PROBLEM, ANSWER_FUNCTION_OR_VARIABLE)\n",
    "\n",
    "At the end grader compile all the answers into one file **answers.txt**.\n",
    "\n",
    "You should email both this file and notebook file to **zhukovalex13@gmail.com** before next lesson.\n",
    "\n",
    "(Deadline is 23 October)."
   ]
  },
  {
   "cell_type": "markdown",
   "metadata": {},
   "source": [
    "**Please, paste your name in the corresponding variable**"
   ]
  },
  {
   "cell_type": "code",
   "execution_count": 2,
   "metadata": {},
   "outputs": [],
   "source": [
    "YOUR_NAME = 'Aleksey Zhukov' # <- paste your name here\n",
    "g = Grader(YOUR_NAME) # <- in this line we initialize a grader"
   ]
  },
  {
   "cell_type": "markdown",
   "metadata": {},
   "source": [
    "### 1. Implement factorial function n! ###\n",
    "n! = n (n-1)(n-2)...1"
   ]
  },
  {
   "cell_type": "code",
   "execution_count": null,
   "metadata": {},
   "outputs": [],
   "source": [
    "def factorial(n):\n",
    "# YOUR CODE HERE  "
   ]
  },
  {
   "cell_type": "code",
   "execution_count": null,
   "metadata": {},
   "outputs": [],
   "source": [
    "g.send(1, factorial)"
   ]
  },
  {
   "cell_type": "markdown",
   "metadata": {},
   "source": [
    "### 2.  And then binominal coefficients C(n,k) ###\n",
    "\n",
    "C(n, k) = n!/((n-k)!*k!)"
   ]
  },
  {
   "cell_type": "code",
   "execution_count": null,
   "metadata": {},
   "outputs": [],
   "source": [
    "def C(n,k):\n",
    "    return # YOUR CODE HERE"
   ]
  },
  {
   "cell_type": "code",
   "execution_count": null,
   "metadata": {},
   "outputs": [],
   "source": [
    "g.send(2, C)"
   ]
  },
  {
   "cell_type": "markdown",
   "metadata": {},
   "source": [
    "### 3. Create a matrix with binominal coeficients n = [5, 6, 7], k = [2, 3, 4] ###"
   ]
  },
  {
   "cell_type": "code",
   "execution_count": null,
   "metadata": {},
   "outputs": [],
   "source": [
    "n_coefs = [5,6,7]\n",
    "k_coefs = [2,3,4]\n",
    "\n",
    "B = np.empty( (3, 3) ) # <- create empty matrix in the following way\n",
    "# Use 2 nested cycles to full the matrix\n",
    "# You can run cycle with range(3) and get coefficients from n_coefs and k_coefs by index"
   ]
  },
  {
   "cell_type": "code",
   "execution_count": null,
   "metadata": {},
   "outputs": [],
   "source": [
    "# YOUR CODE HERE"
   ]
  },
  {
   "cell_type": "code",
   "execution_count": null,
   "metadata": {},
   "outputs": [],
   "source": [
    "g.send(3, B)"
   ]
  },
  {
   "cell_type": "code",
   "execution_count": null,
   "metadata": {},
   "outputs": [],
   "source": [
    "plt.imshow(B)"
   ]
  },
  {
   "cell_type": "markdown",
   "metadata": {},
   "source": [
    "## Calculate conditional probability\n",
    "A margin call occurs when the value of an investor's margin account falls below the broker's required amount.\n",
    "You hava a data of high market volatility (HV) and high number of margin call events (HMC) presence during 20 days. Zero value means an absence of the event and one means a presence. "
   ]
  },
  {
   "cell_type": "code",
   "execution_count": null,
   "metadata": {},
   "outputs": [],
   "source": [
    "daterange = pd.date_range('1-1-2015', periods=20, freq='d')\n",
    "margincalls = np.array([0,0,1,1,0,0,1,0,0,0,1,0,0,0,0,0,1,1,0,0])\n",
    "volatility = np.array([0,1,1,1,0,1,0,0,1,0,0,1,0,0,0,1,1,1,0,1])\n",
    "df = pd.DataFrame(np.vstack([margincalls, volatility]).T,index=daterange,columns = ['margincalls','volatility'])\n",
    "del margincalls\n",
    "del volatility\n",
    "df"
   ]
  },
  {
   "cell_type": "markdown",
   "metadata": {},
   "source": [
    "### 4. calculate conditional probability HMC given HV"
   ]
  },
  {
   "cell_type": "code",
   "execution_count": 4,
   "metadata": {},
   "outputs": [],
   "source": [
    "# YOUR CODE HERE\n",
    "\n",
    "p_HMC_given_HV = 0 # <- paste your result in this variable"
   ]
  },
  {
   "cell_type": "code",
   "execution_count": 5,
   "metadata": {},
   "outputs": [
    {
     "name": "stdout",
     "output_type": "stream",
     "text": [
      "Probably, there is a mistake\n"
     ]
    }
   ],
   "source": [
    "g.send(4, p_HMC_given_HV)"
   ]
  },
  {
   "cell_type": "markdown",
   "metadata": {},
   "source": [
    "### 5. calculate conditional probability HV given HMC"
   ]
  },
  {
   "cell_type": "code",
   "execution_count": null,
   "metadata": {},
   "outputs": [],
   "source": [
    "# YOUR CODE HERE\n",
    "\n",
    "p_HV_given_HMC = 0 # <- paste your result in this variable"
   ]
  },
  {
   "cell_type": "code",
   "execution_count": null,
   "metadata": {},
   "outputs": [],
   "source": [
    "g.send(5, p_HV_given_HMC)"
   ]
  },
  {
   "cell_type": "markdown",
   "metadata": {},
   "source": [
    "### 6. Calculate Value at Risk"
   ]
  },
  {
   "cell_type": "markdown",
   "metadata": {},
   "source": [
    "Do you remember an example with S&P 500 stock index? Now we will modify this example a bit. Let return is distributed as a normal random variable with $\\mu = 0.0001$ and $\\sigma = 0.01$. Calculate VaR for 10% risk if total investments ammount is $100000."
   ]
  },
  {
   "cell_type": "code",
   "execution_count": null,
   "metadata": {},
   "outputs": [],
   "source": [
    "mu = 0.0001\n",
    "sigma = 0.01\n",
    "investment = 100000\n",
    "alpha = 0.10"
   ]
  },
  {
   "cell_type": "code",
   "execution_count": null,
   "metadata": {},
   "outputs": [],
   "source": []
  },
  {
   "cell_type": "code",
   "execution_count": null,
   "metadata": {},
   "outputs": [],
   "source": []
  },
  {
   "cell_type": "code",
   "execution_count": null,
   "metadata": {},
   "outputs": [],
   "source": [
    "var_value = 0 # <- paste your result in this variable"
   ]
  },
  {
   "cell_type": "code",
   "execution_count": null,
   "metadata": {},
   "outputs": [],
   "source": [
    "g.send(6, var_value)"
   ]
  },
  {
   "cell_type": "markdown",
   "metadata": {},
   "source": [
    "## Sum up your results and generate output file"
   ]
  },
  {
   "cell_type": "code",
   "execution_count": 3,
   "metadata": {},
   "outputs": [
    {
     "name": "stdout",
     "output_type": "stream",
     "text": [
      "[ 1 ] is not answered !\n",
      "[ 2 ] is not answered !\n",
      "[ 3 ] is not answered !\n",
      "[ 4 ] is not answered !\n",
      "[ 5 ] is not answered !\n",
      "[ 6 ] is not answered !\n",
      "File \"answers.txt\" was successfully generated. Don't forget to send it too.\n"
     ]
    }
   ],
   "source": [
    "g.compile_answers()"
   ]
  }
 ],
 "metadata": {
  "kernelspec": {
   "display_name": "Python 3",
   "language": "python",
   "name": "python3"
  },
  "language_info": {
   "codemirror_mode": {
    "name": "ipython",
    "version": 3
   },
   "file_extension": ".py",
   "mimetype": "text/x-python",
   "name": "python",
   "nbconvert_exporter": "python",
   "pygments_lexer": "ipython3",
   "version": "3.7.4"
  }
 },
 "nbformat": 4,
 "nbformat_minor": 2
}
